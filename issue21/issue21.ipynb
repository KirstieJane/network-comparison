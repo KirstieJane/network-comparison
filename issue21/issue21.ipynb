{
 "cells": [
  {
   "cell_type": "code",
   "execution_count": 1,
   "metadata": {
    "collapsed": false,
    "deletable": true,
    "editable": true
   },
   "outputs": [],
   "source": [
    "import sys\n",
    "import os\n",
    "source_dir = os.path.expanduser(\"~/Source/Turing/pyNetEMD/\")\n",
    "data_dir = os.path.expanduser(\"~/\")\n",
    "sys.path.append(source_dir)\n",
    "import pyximport\n",
    "pyximport.install(reload_support=True)\n",
    "import cyemdORB4 as cy\n",
    "from scipy.optimize import minimize_scalar"
   ]
  },
  {
   "cell_type": "code",
   "execution_count": 3,
   "metadata": {
    "collapsed": false,
    "deletable": true,
    "editable": true
   },
   "outputs": [
    {
     "name": "stdout",
     "output_type": "stream",
     "text": [
      "Using R-code variance approach\n",
      "Using R-code variance approach\n",
      "[[ 0.90284938  0.        ]\n",
      " [ 1.67264974  0.5       ]\n",
      " [ 2.44245005  0.5       ]\n",
      " [ 3.21225047  0.75      ]\n",
      " [ 3.9820509   1.        ]]\n",
      "[[ 0.76751858  0.        ]\n",
      " [ 1.37751293  0.125     ]\n",
      " [ 1.9875071   0.125     ]\n",
      " [ 2.59750152  0.625     ]\n",
      " [ 3.20749569  0.625     ]\n",
      " [ 3.8174901   0.75      ]\n",
      " [ 4.42748451  1.        ]]\n",
      "0.533898293972\n"
     ]
    }
   ],
   "source": [
    "# Mass and variance normalised histogram example (initial integer histogram becomes \n",
    "# real-valued locations and masses on non-aligned grids)\n",
    "# Smoothed area between cumulative functions should be very close to 0.534\n",
    "reload(cy)\n",
    "#from IPython.core.debugger import Tracer\n",
    "counts1_test = [1, 1, 1, 1, 3, 3, 4, 4]\n",
    "counts2_test = [0, 2, 2, 2, 2, 4, 5, 5]\n",
    "dis1_test = cy.dis(counts1_test)\n",
    "dis2_test = cy.dis(counts2_test)\n",
    "dis1_rescaled_test = cy.rescale(dis1_test)\n",
    "dis2_rescaled_test = cy.rescale(dis2_test)\n",
    "shift1 = 0.9028494 - dis1_rescaled_test[0][0]; scale1 = 1\n",
    "dis1_rescaled_shifted_test = [[item[0]+shift1, item[1]+shift1, item[2]*scale1] for item in dis1_rescaled_test]\n",
    "shift2 = 0.7675186 - dis2_rescaled_test[0][0]; scale2 = 1\n",
    "dis2_rescaled_shifted_test = [[item[0]+shift2, item[1]+shift2, item[2]*scale2] for item in dis2_rescaled_test]\n",
    "dis1_cum_test = cy.cum(dis1_rescaled_shifted_test)\n",
    "dis2_cum_test = cy.cum(dis2_rescaled_shifted_test)\n",
    "#ipdb.set_trace()\n",
    "\n",
    "actual_area_test = cy.pyKSAt(dis1_cum_test, dis2_cum_test, 0)\n",
    "print(dis1_cum_test)\n",
    "print(dis2_cum_test)\n",
    "print(actual_area_test)"
   ]
  },
  {
   "cell_type": "code",
   "execution_count": null,
   "metadata": {
    "collapsed": true
   },
   "outputs": [],
   "source": []
  }
 ],
 "metadata": {
  "anaconda-cloud": {},
  "kernelspec": {
   "display_name": "Python 2",
   "language": "python",
   "name": "python2"
  },
  "language_info": {
   "codemirror_mode": {
    "name": "ipython",
    "version": 2
   },
   "file_extension": ".py",
   "mimetype": "text/x-python",
   "name": "python",
   "nbconvert_exporter": "python",
   "pygments_lexer": "ipython2",
   "version": "2.7.13"
  }
 },
 "nbformat": 4,
 "nbformat_minor": 1
}
