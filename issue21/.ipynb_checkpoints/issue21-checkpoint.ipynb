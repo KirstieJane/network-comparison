{
 "cells": [
  {
   "cell_type": "code",
   "execution_count": 2,
   "metadata": {
    "collapsed": false,
    "deletable": true,
    "editable": true
   },
   "outputs": [],
   "source": [
    "import sys\n",
    "import os\n",
    "source_dir = os.path.expanduser(\"~/Source/Turing/pyNetEMD/\")\n",
    "data_dir = os.path.expanduser(\"~/\")\n",
    "sys.path.append(source_dir)\n",
    "import pyximport\n",
    "pyximport.install(reload_support=True)\n",
    "import cyemdORB4 as cy\n",
    "from scipy.optimize import minimize_scalar"
   ]
  },
  {
   "cell_type": "code",
   "execution_count": 6,
   "metadata": {
    "collapsed": false,
    "deletable": true,
    "editable": true
   },
   "outputs": [
    {
     "name": "stdout",
     "output_type": "stream",
     "text": [
      "[[ 1.31066406  0.        ]\n",
      " [ 2.06213307  0.5       ]\n",
      " [ 2.81360221  0.5       ]\n",
      " [ 3.56507134  0.75      ]\n",
      " [ 4.31654072  1.        ]]\n",
      "[[ 1.09793401  0.        ]\n",
      " [ 1.69868541  0.125     ]\n",
      " [ 2.29943681  0.125     ]\n",
      " [ 2.90018821  0.625     ]\n",
      " [ 3.50093961  0.625     ]\n",
      " [ 4.10169125  0.75      ]\n",
      " [ 4.70244265  1.        ]]\n",
      "0.482435524464\n"
     ]
    }
   ],
   "source": [
    "# Mass and variance normalised histogram example (initial integer histogram becomes \n",
    "# real-valued locations and masses on non-aligned grids)\n",
    "# Smoothed area between cumulative functions should be very close to 0.534\n",
    "reload(cy)\n",
    "#from IPython.core.debugger import Tracer\n",
    "counts1_test = [1, 1, 1, 1, 3, 3, 4, 4]\n",
    "counts2_test = [0, 2, 2, 2, 2, 4, 5, 5]\n",
    "dis1_test = cy.dis(counts1_test)\n",
    "dis2_test = cy.dis(counts2_test)\n",
    "dis1_rescaled_test = cy.rescale(dis1_test)\n",
    "dis2_rescaled_test = cy.rescale(dis2_test)\n",
    "shift1 = 0.934929 - dis1_rescaled_test[0][0]; scale1 = 1\n",
    "dis1_rescaled_shifted_test = [[item[0]+shift1, item[1]+shift1, item[2]*scale1] for item in dis1_rescaled_test]\n",
    "shift2 =  0.7975579 - dis2_rescaled_test[0][0]; scale2 = 1\n",
    "dis2_rescaled_shifted_test = [[item[0]+shift2, item[1]+shift2, item[2]*scale2] for item in dis2_rescaled_test]\n",
    "dis1_cum_test = cy.cum(dis1_rescaled_shifted_test)\n",
    "dis2_cum_test = cy.cum(dis2_rescaled_shifted_test)\n",
    "#ipdb.set_trace()\n",
    "\n",
    "actual_area_test = cy.pyKSAt(dis1_cum_test, dis2_cum_test, 0)\n",
    "print(dis1_cum_test)\n",
    "print(dis2_cum_test)\n",
    "print(actual_area_test)"
   ]
  },
  {
   "cell_type": "code",
   "execution_count": 4,
   "metadata": {
    "collapsed": false,
    "deletable": true,
    "editable": true
   },
   "outputs": [
    {
     "data": {
      "text/plain": [
       "[0.2607470154762268, 0.55760298860087931]"
      ]
     },
     "execution_count": 4,
     "metadata": {},
     "output_type": "execute_result"
    }
   ],
   "source": [
    "min_emd, offset = cy.KSAPF(dis1_cum_test, dis2_cum_test)\n",
    "[min_emd, offset]"
   ]
  },
  {
   "cell_type": "code",
   "execution_count": 5,
   "metadata": {
    "collapsed": false,
    "deletable": true,
    "editable": true
   },
   "outputs": [
    {
     "name": "stdout",
     "output_type": "stream",
     "text": [
      "E[X] = x1/2 + x2/2\n",
      "E[X^2] = x1**2/3 + x1*x2/3 + x2**2/3\n"
     ]
    }
   ],
   "source": [
    "# Confirm smoothed histogram formulae for E[X] and E[X^2] (integrating over bin width)\n",
    "from sympy import *\n",
    "x1 = symbols('x1')\n",
    "x2 = symbols('x2')\n",
    "x = symbols('x')\n",
    "exp_x = simplify(integrate((1/(x2-x1))*(x), (x, x1, x2)))\n",
    "exp_x2 = simplify(integrate((1/(x2-x1))*(x**2), (x, x1, x2)))\n",
    "print(\"E[X] = {0}\".format(exp_x))\n",
    "print(\"E[X^2] = {1}\".format(exp_x, exp_x2))"
   ]
  },
  {
   "cell_type": "code",
   "execution_count": 11,
   "metadata": {
    "collapsed": false,
    "deletable": true,
    "editable": true
   },
   "outputs": [
    {
     "name": "stdout",
     "output_type": "stream",
     "text": [
      "Smoothed E[X^2] = bin_width**2/12 + x_centre**2\n",
      "Unsmoothed E[X^2] = x_centre**2\n"
     ]
    }
   ],
   "source": [
    "# Determine difference between smoothed and unsmoothed histogram values for E[X^2]\n",
    "from sympy import *\n",
    "x_lower = symbols('x_lower')\n",
    "x_upper = symbols('x_upper')\n",
    "x_centre = symbols('x_centre')\n",
    "bin_width = symbols('bin_width')\n",
    "smoothed_exp_x2 = (x_lower**2/3 + x_upper*x_lower/3 + x_upper**2/3)\n",
    "smoothed_exp_x2 = simplify(smoothed_exp_x2.subs(x_lower, x_centre - bin_width/2).subs(x_upper, x_centre + bin_width/2))\n",
    "unsmoothed_exp_x2 = expand(((x_lower + x_upper)/2)**2)\n",
    "unsmoothed_exp_x2 = simplify(unsmoothed_exp_x2.subs(x_lower, x_centre - bin_width/2).subs(x_upper, x_centre + bin_width/2))\n",
    "print(\"Smoothed E[X^2] = {0}\".format(smoothed_exp_x2))\n",
    "print(\"Unsmoothed E[X^2] = {0}\".format(unsmoothed_exp_x2))"
   ]
  },
  {
   "cell_type": "code",
   "execution_count": null,
   "metadata": {
    "collapsed": true,
    "deletable": true,
    "editable": true
   },
   "outputs": [],
   "source": []
  }
 ],
 "metadata": {
  "anaconda-cloud": {},
  "kernelspec": {
   "display_name": "Python 2",
   "language": "python",
   "name": "python2"
  },
  "language_info": {
   "codemirror_mode": {
    "name": "ipython",
    "version": 2
   },
   "file_extension": ".py",
   "mimetype": "text/x-python",
   "name": "python",
   "nbconvert_exporter": "python",
   "pygments_lexer": "ipython2",
   "version": "2.7.13"
  }
 },
 "nbformat": 4,
 "nbformat_minor": 1
}
